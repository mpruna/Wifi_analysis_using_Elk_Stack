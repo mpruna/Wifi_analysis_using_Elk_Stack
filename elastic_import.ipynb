{
 "cells": [
  {
   "cell_type": "code",
   "execution_count": null,
   "metadata": {},
   "outputs": [],
   "source": [
    "### Analize and import wifi dataset"
   ]
  },
  {
   "cell_type": "code",
   "execution_count": 25,
   "metadata": {},
   "outputs": [],
   "source": [
    "import os\n",
    "import csv\n",
    "import json\n",
    "\n",
    "import numpy as np\n",
    "import pandas as pd\n",
    "\n",
    "from elasticsearch import Elasticsearch\n",
    "from elasticsearch.helpers import bulk"
   ]
  },
  {
   "cell_type": "code",
   "execution_count": 27,
   "metadata": {},
   "outputs": [],
   "source": [
    "df=pd.read_csv(\"wardrive_elasticsearch-01.kismet.csv\", delimiter=\";\")"
   ]
  },
  {
   "cell_type": "code",
   "execution_count": 28,
   "metadata": {},
   "outputs": [
    {
     "data": {
      "text/html": [
       "<div>\n",
       "<style scoped>\n",
       "    .dataframe tbody tr th:only-of-type {\n",
       "        vertical-align: middle;\n",
       "    }\n",
       "\n",
       "    .dataframe tbody tr th {\n",
       "        vertical-align: top;\n",
       "    }\n",
       "\n",
       "    .dataframe thead th {\n",
       "        text-align: right;\n",
       "    }\n",
       "</style>\n",
       "<table border=\"1\" class=\"dataframe\">\n",
       "  <thead>\n",
       "    <tr style=\"text-align: right;\">\n",
       "      <th></th>\n",
       "      <th>Network</th>\n",
       "      <th>NetType</th>\n",
       "      <th>ESSID</th>\n",
       "      <th>BSSID</th>\n",
       "      <th>Info</th>\n",
       "      <th>Channel</th>\n",
       "      <th>Cloaked</th>\n",
       "      <th>Encryption</th>\n",
       "      <th>Decrypted</th>\n",
       "      <th>MaxRate</th>\n",
       "      <th>...</th>\n",
       "      <th>GPSMaxLon</th>\n",
       "      <th>GPSMaxAlt</th>\n",
       "      <th>GPSMaxSpd</th>\n",
       "      <th>GPSBestLat</th>\n",
       "      <th>GPSBestLon</th>\n",
       "      <th>GPSBestAlt</th>\n",
       "      <th>DataSize</th>\n",
       "      <th>IPType</th>\n",
       "      <th>IP</th>\n",
       "      <th>Unnamed: 38</th>\n",
       "    </tr>\n",
       "  </thead>\n",
       "  <tbody>\n",
       "    <tr>\n",
       "      <th>0</th>\n",
       "      <td>1</td>\n",
       "      <td>infrastructure</td>\n",
       "      <td>Patricia</td>\n",
       "      <td>C8:D7:19:5D:26:25</td>\n",
       "      <td>NaN</td>\n",
       "      <td>10</td>\n",
       "      <td>No</td>\n",
       "      <td>WPA2,WPA,AES-CCM,TKIP</td>\n",
       "      <td>No</td>\n",
       "      <td>130.0</td>\n",
       "      <td>...</td>\n",
       "      <td>0.0</td>\n",
       "      <td>0.0</td>\n",
       "      <td>0.0</td>\n",
       "      <td>0.0</td>\n",
       "      <td>0.0</td>\n",
       "      <td>0.0</td>\n",
       "      <td>0</td>\n",
       "      <td>0</td>\n",
       "      <td>0.0.0.0</td>\n",
       "      <td>NaN</td>\n",
       "    </tr>\n",
       "    <tr>\n",
       "      <th>1</th>\n",
       "      <td>2</td>\n",
       "      <td>infrastructure</td>\n",
       "      <td>bzn</td>\n",
       "      <td>4C:F9:5D:A6:25:B4</td>\n",
       "      <td>NaN</td>\n",
       "      <td>6</td>\n",
       "      <td>No</td>\n",
       "      <td>WPA2,AES-CCM</td>\n",
       "      <td>No</td>\n",
       "      <td>130.0</td>\n",
       "      <td>...</td>\n",
       "      <td>0.0</td>\n",
       "      <td>0.0</td>\n",
       "      <td>0.0</td>\n",
       "      <td>0.0</td>\n",
       "      <td>0.0</td>\n",
       "      <td>0.0</td>\n",
       "      <td>0</td>\n",
       "      <td>0</td>\n",
       "      <td>0.0.0.0</td>\n",
       "      <td>NaN</td>\n",
       "    </tr>\n",
       "    <tr>\n",
       "      <th>2</th>\n",
       "      <td>3</td>\n",
       "      <td>infrastructure</td>\n",
       "      <td>ASUSR</td>\n",
       "      <td>2C:56:DC:F9:E4:60</td>\n",
       "      <td>NaN</td>\n",
       "      <td>1</td>\n",
       "      <td>No</td>\n",
       "      <td>WPA2,AES-CCM</td>\n",
       "      <td>No</td>\n",
       "      <td>130.0</td>\n",
       "      <td>...</td>\n",
       "      <td>0.0</td>\n",
       "      <td>0.0</td>\n",
       "      <td>0.0</td>\n",
       "      <td>0.0</td>\n",
       "      <td>0.0</td>\n",
       "      <td>0.0</td>\n",
       "      <td>0</td>\n",
       "      <td>0</td>\n",
       "      <td>0.0.0.0</td>\n",
       "      <td>NaN</td>\n",
       "    </tr>\n",
       "    <tr>\n",
       "      <th>3</th>\n",
       "      <td>4</td>\n",
       "      <td>infrastructure</td>\n",
       "      <td>Netis 14 Spalatorie</td>\n",
       "      <td>04:8D:38:7E:C4:37</td>\n",
       "      <td>NaN</td>\n",
       "      <td>9</td>\n",
       "      <td>No</td>\n",
       "      <td>WPA2,AES-CCM,TKIP</td>\n",
       "      <td>No</td>\n",
       "      <td>270.0</td>\n",
       "      <td>...</td>\n",
       "      <td>0.0</td>\n",
       "      <td>0.0</td>\n",
       "      <td>0.0</td>\n",
       "      <td>0.0</td>\n",
       "      <td>0.0</td>\n",
       "      <td>0.0</td>\n",
       "      <td>0</td>\n",
       "      <td>0</td>\n",
       "      <td>0.0.0.0</td>\n",
       "      <td>NaN</td>\n",
       "    </tr>\n",
       "    <tr>\n",
       "      <th>4</th>\n",
       "      <td>5</td>\n",
       "      <td>infrastructure</td>\n",
       "      <td>edimax</td>\n",
       "      <td>80:1F:02:E6:00:1F</td>\n",
       "      <td>NaN</td>\n",
       "      <td>2</td>\n",
       "      <td>No</td>\n",
       "      <td>WPA2,AES-CCM</td>\n",
       "      <td>No</td>\n",
       "      <td>135.0</td>\n",
       "      <td>...</td>\n",
       "      <td>0.0</td>\n",
       "      <td>0.0</td>\n",
       "      <td>0.0</td>\n",
       "      <td>0.0</td>\n",
       "      <td>0.0</td>\n",
       "      <td>0.0</td>\n",
       "      <td>0</td>\n",
       "      <td>0</td>\n",
       "      <td>0.0.0.0</td>\n",
       "      <td>NaN</td>\n",
       "    </tr>\n",
       "  </tbody>\n",
       "</table>\n",
       "<p>5 rows × 39 columns</p>\n",
       "</div>"
      ],
      "text/plain": [
       "   Network         NetType                ESSID              BSSID  Info  \\\n",
       "0        1  infrastructure             Patricia  C8:D7:19:5D:26:25   NaN   \n",
       "1        2  infrastructure                  bzn  4C:F9:5D:A6:25:B4   NaN   \n",
       "2        3  infrastructure                ASUSR  2C:56:DC:F9:E4:60   NaN   \n",
       "3        4  infrastructure  Netis 14 Spalatorie  04:8D:38:7E:C4:37   NaN   \n",
       "4        5  infrastructure               edimax  80:1F:02:E6:00:1F   NaN   \n",
       "\n",
       "   Channel Cloaked             Encryption Decrypted  MaxRate     ...      \\\n",
       "0       10      No  WPA2,WPA,AES-CCM,TKIP        No    130.0     ...       \n",
       "1        6      No           WPA2,AES-CCM        No    130.0     ...       \n",
       "2        1      No           WPA2,AES-CCM        No    130.0     ...       \n",
       "3        9      No      WPA2,AES-CCM,TKIP        No    270.0     ...       \n",
       "4        2      No           WPA2,AES-CCM        No    135.0     ...       \n",
       "\n",
       "   GPSMaxLon  GPSMaxAlt  GPSMaxSpd  GPSBestLat  GPSBestLon  GPSBestAlt  \\\n",
       "0        0.0        0.0        0.0         0.0         0.0         0.0   \n",
       "1        0.0        0.0        0.0         0.0         0.0         0.0   \n",
       "2        0.0        0.0        0.0         0.0         0.0         0.0   \n",
       "3        0.0        0.0        0.0         0.0         0.0         0.0   \n",
       "4        0.0        0.0        0.0         0.0         0.0         0.0   \n",
       "\n",
       "   DataSize  IPType       IP Unnamed: 38  \n",
       "0         0       0  0.0.0.0         NaN  \n",
       "1         0       0  0.0.0.0         NaN  \n",
       "2         0       0  0.0.0.0         NaN  \n",
       "3         0       0  0.0.0.0         NaN  \n",
       "4         0       0  0.0.0.0         NaN  \n",
       "\n",
       "[5 rows x 39 columns]"
      ]
     },
     "execution_count": 28,
     "metadata": {},
     "output_type": "execute_result"
    }
   ],
   "source": [
    "df.head()"
   ]
  },
  {
   "cell_type": "code",
   "execution_count": 29,
   "metadata": {},
   "outputs": [
    {
     "data": {
      "text/plain": [
       "(5248, 39)"
      ]
     },
     "execution_count": 29,
     "metadata": {},
     "output_type": "execute_result"
    }
   ],
   "source": [
    "df.shape"
   ]
  },
  {
   "cell_type": "code",
   "execution_count": 30,
   "metadata": {},
   "outputs": [
    {
     "data": {
      "text/plain": [
       "Index(['Network', 'NetType', 'ESSID', 'BSSID', 'Info', 'Channel', 'Cloaked',\n",
       "       'Encryption', 'Decrypted', 'MaxRate', 'MaxSeenRate', 'Beacon', 'LLC',\n",
       "       'Data', 'Crypt', 'Weak', 'Total', 'Carrier', 'Encoding', 'FirstTime',\n",
       "       'LastTime', 'BestQuality', 'BestSignal', 'BestNoise', 'GPSMinLat',\n",
       "       'GPSMinLon', 'GPSMinAlt', 'GPSMinSpd', 'GPSMaxLat', 'GPSMaxLon',\n",
       "       'GPSMaxAlt', 'GPSMaxSpd', 'GPSBestLat', 'GPSBestLon', 'GPSBestAlt',\n",
       "       'DataSize', 'IPType', 'IP', 'Unnamed: 38'],\n",
       "      dtype='object')"
      ]
     },
     "execution_count": 30,
     "metadata": {},
     "output_type": "execute_result"
    }
   ],
   "source": [
    "df.columns"
   ]
  },
  {
   "cell_type": "code",
   "execution_count": 31,
   "metadata": {},
   "outputs": [],
   "source": [
    "df_short=df[['Network', 'NetType', 'ESSID', 'BSSID','Channel','Encryption','MaxRate']]"
   ]
  },
  {
   "cell_type": "code",
   "execution_count": 32,
   "metadata": {},
   "outputs": [
    {
     "data": {
      "text/plain": [
       "Network         0\n",
       "NetType         0\n",
       "ESSID         173\n",
       "BSSID           0\n",
       "Channel         0\n",
       "Encryption      0\n",
       "MaxRate         0\n",
       "dtype: int64"
      ]
     },
     "execution_count": 32,
     "metadata": {},
     "output_type": "execute_result"
    }
   ],
   "source": [
    "df_short.isnull().sum()"
   ]
  },
  {
   "cell_type": "code",
   "execution_count": 33,
   "metadata": {},
   "outputs": [],
   "source": [
    "df_short=df_short.dropna()"
   ]
  },
  {
   "cell_type": "code",
   "execution_count": 34,
   "metadata": {},
   "outputs": [
    {
     "data": {
      "text/plain": [
       "Network       0\n",
       "NetType       0\n",
       "ESSID         0\n",
       "BSSID         0\n",
       "Channel       0\n",
       "Encryption    0\n",
       "MaxRate       0\n",
       "dtype: int64"
      ]
     },
     "execution_count": 34,
     "metadata": {},
     "output_type": "execute_result"
    }
   ],
   "source": [
    "df_short.isnull().sum()"
   ]
  },
  {
   "cell_type": "code",
   "execution_count": 37,
   "metadata": {},
   "outputs": [
    {
     "data": {
      "text/html": [
       "<div>\n",
       "<style scoped>\n",
       "    .dataframe tbody tr th:only-of-type {\n",
       "        vertical-align: middle;\n",
       "    }\n",
       "\n",
       "    .dataframe tbody tr th {\n",
       "        vertical-align: top;\n",
       "    }\n",
       "\n",
       "    .dataframe thead th {\n",
       "        text-align: right;\n",
       "    }\n",
       "</style>\n",
       "<table border=\"1\" class=\"dataframe\">\n",
       "  <thead>\n",
       "    <tr style=\"text-align: right;\">\n",
       "      <th></th>\n",
       "      <th>Network</th>\n",
       "      <th>NetType</th>\n",
       "      <th>ESSID</th>\n",
       "      <th>BSSID</th>\n",
       "      <th>Channel</th>\n",
       "      <th>Encryption</th>\n",
       "      <th>MaxRate</th>\n",
       "    </tr>\n",
       "  </thead>\n",
       "  <tbody>\n",
       "    <tr>\n",
       "      <th>0</th>\n",
       "      <td>1</td>\n",
       "      <td>infrastructure</td>\n",
       "      <td>Patricia</td>\n",
       "      <td>C8:D7:19:5D:26:25</td>\n",
       "      <td>10</td>\n",
       "      <td>WPA2,WPA,AES-CCM,TKIP</td>\n",
       "      <td>130.0</td>\n",
       "    </tr>\n",
       "    <tr>\n",
       "      <th>1</th>\n",
       "      <td>2</td>\n",
       "      <td>infrastructure</td>\n",
       "      <td>bzn</td>\n",
       "      <td>4C:F9:5D:A6:25:B4</td>\n",
       "      <td>6</td>\n",
       "      <td>WPA2,AES-CCM</td>\n",
       "      <td>130.0</td>\n",
       "    </tr>\n",
       "    <tr>\n",
       "      <th>2</th>\n",
       "      <td>3</td>\n",
       "      <td>infrastructure</td>\n",
       "      <td>ASUSR</td>\n",
       "      <td>2C:56:DC:F9:E4:60</td>\n",
       "      <td>1</td>\n",
       "      <td>WPA2,AES-CCM</td>\n",
       "      <td>130.0</td>\n",
       "    </tr>\n",
       "    <tr>\n",
       "      <th>3</th>\n",
       "      <td>4</td>\n",
       "      <td>infrastructure</td>\n",
       "      <td>Netis 14 Spalatorie</td>\n",
       "      <td>04:8D:38:7E:C4:37</td>\n",
       "      <td>9</td>\n",
       "      <td>WPA2,AES-CCM,TKIP</td>\n",
       "      <td>270.0</td>\n",
       "    </tr>\n",
       "    <tr>\n",
       "      <th>4</th>\n",
       "      <td>5</td>\n",
       "      <td>infrastructure</td>\n",
       "      <td>edimax</td>\n",
       "      <td>80:1F:02:E6:00:1F</td>\n",
       "      <td>2</td>\n",
       "      <td>WPA2,AES-CCM</td>\n",
       "      <td>135.0</td>\n",
       "    </tr>\n",
       "  </tbody>\n",
       "</table>\n",
       "</div>"
      ],
      "text/plain": [
       "   Network         NetType                ESSID              BSSID  Channel  \\\n",
       "0        1  infrastructure             Patricia  C8:D7:19:5D:26:25       10   \n",
       "1        2  infrastructure                  bzn  4C:F9:5D:A6:25:B4        6   \n",
       "2        3  infrastructure                ASUSR  2C:56:DC:F9:E4:60        1   \n",
       "3        4  infrastructure  Netis 14 Spalatorie  04:8D:38:7E:C4:37        9   \n",
       "4        5  infrastructure               edimax  80:1F:02:E6:00:1F        2   \n",
       "\n",
       "              Encryption  MaxRate  \n",
       "0  WPA2,WPA,AES-CCM,TKIP    130.0  \n",
       "1           WPA2,AES-CCM    130.0  \n",
       "2           WPA2,AES-CCM    130.0  \n",
       "3      WPA2,AES-CCM,TKIP    270.0  \n",
       "4           WPA2,AES-CCM    135.0  "
      ]
     },
     "execution_count": 37,
     "metadata": {},
     "output_type": "execute_result"
    }
   ],
   "source": [
    "df_short.head()"
   ]
  },
  {
   "cell_type": "code",
   "execution_count": 39,
   "metadata": {},
   "outputs": [
    {
     "data": {
      "text/plain": [
       "WPA2,AES-CCM             2005\n",
       "WPA2,AES-CCM,TKIP        1358\n",
       "WPA2,WPA,AES-CCM          799\n",
       "WPA2,WPA,AES-CCM,TKIP     557\n",
       "OPN,None                  203\n",
       "WPA,AES-CCM                72\n",
       "WEP                        27\n",
       "WPA,TKIP                   21\n",
       "WPA2,TKIP                  20\n",
       "WPA,AES-CCM,TKIP            8\n",
       "WPA2,WPA,TKIP               2\n",
       "WPA2,OPN,AES-CCM,TKIP       2\n",
       "WPA2,None                   1\n",
       "Name: Encryption, dtype: int64"
      ]
     },
     "execution_count": 39,
     "metadata": {},
     "output_type": "execute_result"
    }
   ],
   "source": [
    "df_short['Encryption'].value_counts()"
   ]
  },
  {
   "cell_type": "code",
   "execution_count": 38,
   "metadata": {},
   "outputs": [
    {
     "data": {
      "text/plain": [
       "{'_shards': {'total': 11, 'successful': 6, 'failed': 0}}"
      ]
     },
     "execution_count": 38,
     "metadata": {},
     "output_type": "execute_result"
    }
   ],
   "source": [
    "es = Elasticsearch([\"127.0.0.1:9200\"])\n",
    "\n",
    "es.indices.delete(index=\"wardrive\",ignore=404)\n",
    "docs = df_short.to_dict(orient='records')\n",
    "bulk(es, docs, index='wardrive',doc_type='wifi', raise_on_error=True)\n",
    "es.indices.refresh()"
   ]
  },
  {
   "cell_type": "code",
   "execution_count": null,
   "metadata": {},
   "outputs": [],
   "source": []
  }
 ],
 "metadata": {
  "kernelspec": {
   "display_name": "Python 3",
   "language": "python",
   "name": "python3"
  },
  "language_info": {
   "codemirror_mode": {
    "name": "ipython",
    "version": 3
   },
   "file_extension": ".py",
   "mimetype": "text/x-python",
   "name": "python",
   "nbconvert_exporter": "python",
   "pygments_lexer": "ipython3",
   "version": "3.6.6"
  }
 },
 "nbformat": 4,
 "nbformat_minor": 2
}
