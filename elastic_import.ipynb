{
 "cells": [
  {
   "cell_type": "markdown",
   "metadata": {},
   "source": [
    "### Analize and import wifi dataset into Elastic\n",
    "\n",
    "The primary purpose of this notebook is to do a preliminary data cleaning then import the data into `Elasticsearch.`"
   ]
  },
  {
   "cell_type": "code",
   "execution_count": 32,
   "metadata": {},
   "outputs": [
    {
     "data": {
      "text/html": [
       "<style>\n",
       "table {float:left}\n",
       "</style>"
      ],
      "text/plain": [
       "<IPython.core.display.HTML object>"
      ]
     },
     "metadata": {},
     "output_type": "display_data"
    }
   ],
   "source": [
    "%%html\n",
    "<style>\n",
    "table {float:left}\n",
    "</style>"
   ]
  },
  {
   "cell_type": "code",
   "execution_count": 33,
   "metadata": {},
   "outputs": [],
   "source": [
    "import csv\n",
    "import json\n",
    "\n",
    "import numpy as np\n",
    "import pandas as pd\n",
    "\n",
    "from elasticsearch import Elasticsearch\n",
    "from elasticsearch.helpers import bulk"
   ]
  },
  {
   "cell_type": "markdown",
   "metadata": {},
   "source": [
    "Library | Explanation\n",
    "-|-\n",
    "numpy |  open source library enables data analysis in numerical computing \n",
    "pandas | open source libraries  based on numpy, used for data structure analysis\n",
    "elasticseach | pandas library for elasticsearch interaction\n",
    "elasticsearch.helpers(bulk) | Collection of simple helper functions that abstract some specifics or the raw AP"
   ]
  },
  {
   "cell_type": "code",
   "execution_count": 34,
   "metadata": {},
   "outputs": [],
   "source": [
    "df=pd.read_csv(\"wardrive_elasticsearch-01.kismet.csv\", delimiter=\";\")"
   ]
  },
  {
   "cell_type": "markdown",
   "metadata": {},
   "source": [
    "### Visualize the first 5 records"
   ]
  },
  {
   "cell_type": "code",
   "execution_count": 35,
   "metadata": {},
   "outputs": [
    {
     "data": {
      "text/html": [
       "<div>\n",
       "<style scoped>\n",
       "    .dataframe tbody tr th:only-of-type {\n",
       "        vertical-align: middle;\n",
       "    }\n",
       "\n",
       "    .dataframe tbody tr th {\n",
       "        vertical-align: top;\n",
       "    }\n",
       "\n",
       "    .dataframe thead th {\n",
       "        text-align: right;\n",
       "    }\n",
       "</style>\n",
       "<table border=\"1\" class=\"dataframe\">\n",
       "  <thead>\n",
       "    <tr style=\"text-align: right;\">\n",
       "      <th></th>\n",
       "      <th>Network</th>\n",
       "      <th>NetType</th>\n",
       "      <th>ESSID</th>\n",
       "      <th>BSSID</th>\n",
       "      <th>Info</th>\n",
       "      <th>Channel</th>\n",
       "      <th>Cloaked</th>\n",
       "      <th>Encryption</th>\n",
       "      <th>Decrypted</th>\n",
       "      <th>MaxRate</th>\n",
       "      <th>...</th>\n",
       "      <th>GPSMaxLon</th>\n",
       "      <th>GPSMaxAlt</th>\n",
       "      <th>GPSMaxSpd</th>\n",
       "      <th>GPSBestLat</th>\n",
       "      <th>GPSBestLon</th>\n",
       "      <th>GPSBestAlt</th>\n",
       "      <th>DataSize</th>\n",
       "      <th>IPType</th>\n",
       "      <th>IP</th>\n",
       "      <th>Unnamed: 38</th>\n",
       "    </tr>\n",
       "  </thead>\n",
       "  <tbody>\n",
       "    <tr>\n",
       "      <th>0</th>\n",
       "      <td>1</td>\n",
       "      <td>infrastructure</td>\n",
       "      <td>Patricia</td>\n",
       "      <td>C8:D7:19:5D:26:25</td>\n",
       "      <td>NaN</td>\n",
       "      <td>10</td>\n",
       "      <td>No</td>\n",
       "      <td>WPA2,WPA,AES-CCM,TKIP</td>\n",
       "      <td>No</td>\n",
       "      <td>130.0</td>\n",
       "      <td>...</td>\n",
       "      <td>0.0</td>\n",
       "      <td>0.0</td>\n",
       "      <td>0.0</td>\n",
       "      <td>0.0</td>\n",
       "      <td>0.0</td>\n",
       "      <td>0.0</td>\n",
       "      <td>0</td>\n",
       "      <td>0</td>\n",
       "      <td>0.0.0.0</td>\n",
       "      <td>NaN</td>\n",
       "    </tr>\n",
       "    <tr>\n",
       "      <th>1</th>\n",
       "      <td>2</td>\n",
       "      <td>infrastructure</td>\n",
       "      <td>bzn</td>\n",
       "      <td>4C:F9:5D:A6:25:B4</td>\n",
       "      <td>NaN</td>\n",
       "      <td>6</td>\n",
       "      <td>No</td>\n",
       "      <td>WPA2,AES-CCM</td>\n",
       "      <td>No</td>\n",
       "      <td>130.0</td>\n",
       "      <td>...</td>\n",
       "      <td>0.0</td>\n",
       "      <td>0.0</td>\n",
       "      <td>0.0</td>\n",
       "      <td>0.0</td>\n",
       "      <td>0.0</td>\n",
       "      <td>0.0</td>\n",
       "      <td>0</td>\n",
       "      <td>0</td>\n",
       "      <td>0.0.0.0</td>\n",
       "      <td>NaN</td>\n",
       "    </tr>\n",
       "    <tr>\n",
       "      <th>2</th>\n",
       "      <td>3</td>\n",
       "      <td>infrastructure</td>\n",
       "      <td>ASUSR</td>\n",
       "      <td>2C:56:DC:F9:E4:60</td>\n",
       "      <td>NaN</td>\n",
       "      <td>1</td>\n",
       "      <td>No</td>\n",
       "      <td>WPA2,AES-CCM</td>\n",
       "      <td>No</td>\n",
       "      <td>130.0</td>\n",
       "      <td>...</td>\n",
       "      <td>0.0</td>\n",
       "      <td>0.0</td>\n",
       "      <td>0.0</td>\n",
       "      <td>0.0</td>\n",
       "      <td>0.0</td>\n",
       "      <td>0.0</td>\n",
       "      <td>0</td>\n",
       "      <td>0</td>\n",
       "      <td>0.0.0.0</td>\n",
       "      <td>NaN</td>\n",
       "    </tr>\n",
       "    <tr>\n",
       "      <th>3</th>\n",
       "      <td>4</td>\n",
       "      <td>infrastructure</td>\n",
       "      <td>Netis 14 Spalatorie</td>\n",
       "      <td>04:8D:38:7E:C4:37</td>\n",
       "      <td>NaN</td>\n",
       "      <td>9</td>\n",
       "      <td>No</td>\n",
       "      <td>WPA2,AES-CCM,TKIP</td>\n",
       "      <td>No</td>\n",
       "      <td>270.0</td>\n",
       "      <td>...</td>\n",
       "      <td>0.0</td>\n",
       "      <td>0.0</td>\n",
       "      <td>0.0</td>\n",
       "      <td>0.0</td>\n",
       "      <td>0.0</td>\n",
       "      <td>0.0</td>\n",
       "      <td>0</td>\n",
       "      <td>0</td>\n",
       "      <td>0.0.0.0</td>\n",
       "      <td>NaN</td>\n",
       "    </tr>\n",
       "    <tr>\n",
       "      <th>4</th>\n",
       "      <td>5</td>\n",
       "      <td>infrastructure</td>\n",
       "      <td>edimax</td>\n",
       "      <td>80:1F:02:E6:00:1F</td>\n",
       "      <td>NaN</td>\n",
       "      <td>2</td>\n",
       "      <td>No</td>\n",
       "      <td>WPA2,AES-CCM</td>\n",
       "      <td>No</td>\n",
       "      <td>135.0</td>\n",
       "      <td>...</td>\n",
       "      <td>0.0</td>\n",
       "      <td>0.0</td>\n",
       "      <td>0.0</td>\n",
       "      <td>0.0</td>\n",
       "      <td>0.0</td>\n",
       "      <td>0.0</td>\n",
       "      <td>0</td>\n",
       "      <td>0</td>\n",
       "      <td>0.0.0.0</td>\n",
       "      <td>NaN</td>\n",
       "    </tr>\n",
       "  </tbody>\n",
       "</table>\n",
       "<p>5 rows × 39 columns</p>\n",
       "</div>"
      ],
      "text/plain": [
       "   Network         NetType                ESSID              BSSID  Info  \\\n",
       "0        1  infrastructure             Patricia  C8:D7:19:5D:26:25   NaN   \n",
       "1        2  infrastructure                  bzn  4C:F9:5D:A6:25:B4   NaN   \n",
       "2        3  infrastructure                ASUSR  2C:56:DC:F9:E4:60   NaN   \n",
       "3        4  infrastructure  Netis 14 Spalatorie  04:8D:38:7E:C4:37   NaN   \n",
       "4        5  infrastructure               edimax  80:1F:02:E6:00:1F   NaN   \n",
       "\n",
       "   Channel Cloaked             Encryption Decrypted  MaxRate     ...      \\\n",
       "0       10      No  WPA2,WPA,AES-CCM,TKIP        No    130.0     ...       \n",
       "1        6      No           WPA2,AES-CCM        No    130.0     ...       \n",
       "2        1      No           WPA2,AES-CCM        No    130.0     ...       \n",
       "3        9      No      WPA2,AES-CCM,TKIP        No    270.0     ...       \n",
       "4        2      No           WPA2,AES-CCM        No    135.0     ...       \n",
       "\n",
       "   GPSMaxLon  GPSMaxAlt  GPSMaxSpd  GPSBestLat  GPSBestLon  GPSBestAlt  \\\n",
       "0        0.0        0.0        0.0         0.0         0.0         0.0   \n",
       "1        0.0        0.0        0.0         0.0         0.0         0.0   \n",
       "2        0.0        0.0        0.0         0.0         0.0         0.0   \n",
       "3        0.0        0.0        0.0         0.0         0.0         0.0   \n",
       "4        0.0        0.0        0.0         0.0         0.0         0.0   \n",
       "\n",
       "   DataSize  IPType       IP Unnamed: 38  \n",
       "0         0       0  0.0.0.0         NaN  \n",
       "1         0       0  0.0.0.0         NaN  \n",
       "2         0       0  0.0.0.0         NaN  \n",
       "3         0       0  0.0.0.0         NaN  \n",
       "4         0       0  0.0.0.0         NaN  \n",
       "\n",
       "[5 rows x 39 columns]"
      ]
     },
     "execution_count": 35,
     "metadata": {},
     "output_type": "execute_result"
    }
   ],
   "source": [
    "df.head()"
   ]
  },
  {
   "cell_type": "markdown",
   "metadata": {},
   "source": [
    "### Check dataset dimension(row / column number)"
   ]
  },
  {
   "cell_type": "code",
   "execution_count": 36,
   "metadata": {},
   "outputs": [
    {
     "data": {
      "text/plain": [
       "(5248, 39)"
      ]
     },
     "execution_count": 36,
     "metadata": {},
     "output_type": "execute_result"
    }
   ],
   "source": [
    "df.shape"
   ]
  },
  {
   "cell_type": "markdown",
   "metadata": {},
   "source": [
    "Shape | explanation\n",
    "-|-\n",
    "Rows | 5248\n",
    "Columns | 39"
   ]
  },
  {
   "cell_type": "markdown",
   "metadata": {},
   "source": [
    "### Get a list of columns"
   ]
  },
  {
   "cell_type": "code",
   "execution_count": 37,
   "metadata": {},
   "outputs": [
    {
     "data": {
      "text/plain": [
       "Index(['Network', 'NetType', 'ESSID', 'BSSID', 'Info', 'Channel', 'Cloaked',\n",
       "       'Encryption', 'Decrypted', 'MaxRate', 'MaxSeenRate', 'Beacon', 'LLC',\n",
       "       'Data', 'Crypt', 'Weak', 'Total', 'Carrier', 'Encoding', 'FirstTime',\n",
       "       'LastTime', 'BestQuality', 'BestSignal', 'BestNoise', 'GPSMinLat',\n",
       "       'GPSMinLon', 'GPSMinAlt', 'GPSMinSpd', 'GPSMaxLat', 'GPSMaxLon',\n",
       "       'GPSMaxAlt', 'GPSMaxSpd', 'GPSBestLat', 'GPSBestLon', 'GPSBestAlt',\n",
       "       'DataSize', 'IPType', 'IP', 'Unnamed: 38'],\n",
       "      dtype='object')"
      ]
     },
     "execution_count": 37,
     "metadata": {},
     "output_type": "execute_result"
    }
   ],
   "source": [
    "df.columns"
   ]
  },
  {
   "cell_type": "markdown",
   "metadata": {},
   "source": [
    "### Filter out columns\n",
    "\n",
    "Columns such us `GPSMaxLon`, `GPSMaxAlt`, `Decrypted`, `IP` are not useful for our analysis. We create a subset of the original data by specifying a list of columns"
   ]
  },
  {
   "cell_type": "code",
   "execution_count": 38,
   "metadata": {},
   "outputs": [],
   "source": [
    "df_short=df[['Network', 'NetType', 'ESSID', 'BSSID','Channel','Encryption','MaxRate']]"
   ]
  },
  {
   "cell_type": "code",
   "execution_count": 39,
   "metadata": {},
   "outputs": [],
   "source": [
    "### Check `NaN` values in the sliced dataset"
   ]
  },
  {
   "cell_type": "code",
   "execution_count": 40,
   "metadata": {},
   "outputs": [
    {
     "data": {
      "text/plain": [
       "Network         0\n",
       "NetType         0\n",
       "ESSID         173\n",
       "BSSID           0\n",
       "Channel         0\n",
       "Encryption      0\n",
       "MaxRate         0\n",
       "dtype: int64"
      ]
     },
     "execution_count": 40,
     "metadata": {},
     "output_type": "execute_result"
    }
   ],
   "source": [
    "df_short.isnull().sum()"
   ]
  },
  {
   "cell_type": "markdown",
   "metadata": {},
   "source": [
    "Within pandas,  `NaN,` represent a missing value. `ESSID` column has 173 missing values, and we either have to drop those rows and replace `NaN` with `blank` otherwise we could not import the dataset in elasticsearch. Elasticsearch interprets `NaNs` as `NULL byte`. I chose to drop those records.\n",
    "\n",
    "#### NaN char:\n",
    "![IMG](https://github.com/mpruna/Wifi_analysis_using_Elk_Stack/blob/master/images/NaN.png)\n",
    "\n",
    "#### Import error:\n",
    "![IMG](https://github.com/mpruna/Wifi_analysis_using_Elk_Stack/blob/master/images/import_error.png)"
   ]
  },
  {
   "cell_type": "code",
   "execution_count": 41,
   "metadata": {},
   "outputs": [],
   "source": [
    "# Drop ESSID NaNs\n",
    "\n",
    "df_short=df_short.dropna()"
   ]
  },
  {
   "cell_type": "markdown",
   "metadata": {},
   "source": [
    "### Check NaN records after drop"
   ]
  },
  {
   "cell_type": "code",
   "execution_count": 42,
   "metadata": {},
   "outputs": [
    {
     "data": {
      "text/plain": [
       "Network       0\n",
       "NetType       0\n",
       "ESSID         0\n",
       "BSSID         0\n",
       "Channel       0\n",
       "Encryption    0\n",
       "MaxRate       0\n",
       "dtype: int64"
      ]
     },
     "execution_count": 42,
     "metadata": {},
     "output_type": "execute_result"
    }
   ],
   "source": [
    "df_short.isnull().sum()"
   ]
  },
  {
   "cell_type": "code",
   "execution_count": 43,
   "metadata": {},
   "outputs": [
    {
     "data": {
      "text/html": [
       "<div>\n",
       "<style scoped>\n",
       "    .dataframe tbody tr th:only-of-type {\n",
       "        vertical-align: middle;\n",
       "    }\n",
       "\n",
       "    .dataframe tbody tr th {\n",
       "        vertical-align: top;\n",
       "    }\n",
       "\n",
       "    .dataframe thead th {\n",
       "        text-align: right;\n",
       "    }\n",
       "</style>\n",
       "<table border=\"1\" class=\"dataframe\">\n",
       "  <thead>\n",
       "    <tr style=\"text-align: right;\">\n",
       "      <th></th>\n",
       "      <th>Network</th>\n",
       "      <th>NetType</th>\n",
       "      <th>ESSID</th>\n",
       "      <th>BSSID</th>\n",
       "      <th>Channel</th>\n",
       "      <th>Encryption</th>\n",
       "      <th>MaxRate</th>\n",
       "    </tr>\n",
       "  </thead>\n",
       "  <tbody>\n",
       "    <tr>\n",
       "      <th>0</th>\n",
       "      <td>1</td>\n",
       "      <td>infrastructure</td>\n",
       "      <td>Patricia</td>\n",
       "      <td>C8:D7:19:5D:26:25</td>\n",
       "      <td>10</td>\n",
       "      <td>WPA2,WPA,AES-CCM,TKIP</td>\n",
       "      <td>130.0</td>\n",
       "    </tr>\n",
       "    <tr>\n",
       "      <th>1</th>\n",
       "      <td>2</td>\n",
       "      <td>infrastructure</td>\n",
       "      <td>bzn</td>\n",
       "      <td>4C:F9:5D:A6:25:B4</td>\n",
       "      <td>6</td>\n",
       "      <td>WPA2,AES-CCM</td>\n",
       "      <td>130.0</td>\n",
       "    </tr>\n",
       "    <tr>\n",
       "      <th>2</th>\n",
       "      <td>3</td>\n",
       "      <td>infrastructure</td>\n",
       "      <td>ASUSR</td>\n",
       "      <td>2C:56:DC:F9:E4:60</td>\n",
       "      <td>1</td>\n",
       "      <td>WPA2,AES-CCM</td>\n",
       "      <td>130.0</td>\n",
       "    </tr>\n",
       "    <tr>\n",
       "      <th>3</th>\n",
       "      <td>4</td>\n",
       "      <td>infrastructure</td>\n",
       "      <td>Netis 14 Spalatorie</td>\n",
       "      <td>04:8D:38:7E:C4:37</td>\n",
       "      <td>9</td>\n",
       "      <td>WPA2,AES-CCM,TKIP</td>\n",
       "      <td>270.0</td>\n",
       "    </tr>\n",
       "    <tr>\n",
       "      <th>4</th>\n",
       "      <td>5</td>\n",
       "      <td>infrastructure</td>\n",
       "      <td>edimax</td>\n",
       "      <td>80:1F:02:E6:00:1F</td>\n",
       "      <td>2</td>\n",
       "      <td>WPA2,AES-CCM</td>\n",
       "      <td>135.0</td>\n",
       "    </tr>\n",
       "  </tbody>\n",
       "</table>\n",
       "</div>"
      ],
      "text/plain": [
       "   Network         NetType                ESSID              BSSID  Channel  \\\n",
       "0        1  infrastructure             Patricia  C8:D7:19:5D:26:25       10   \n",
       "1        2  infrastructure                  bzn  4C:F9:5D:A6:25:B4        6   \n",
       "2        3  infrastructure                ASUSR  2C:56:DC:F9:E4:60        1   \n",
       "3        4  infrastructure  Netis 14 Spalatorie  04:8D:38:7E:C4:37        9   \n",
       "4        5  infrastructure               edimax  80:1F:02:E6:00:1F        2   \n",
       "\n",
       "              Encryption  MaxRate  \n",
       "0  WPA2,WPA,AES-CCM,TKIP    130.0  \n",
       "1           WPA2,AES-CCM    130.0  \n",
       "2           WPA2,AES-CCM    130.0  \n",
       "3      WPA2,AES-CCM,TKIP    270.0  \n",
       "4           WPA2,AES-CCM    135.0  "
      ]
     },
     "execution_count": 43,
     "metadata": {},
     "output_type": "execute_result"
    }
   ],
   "source": [
    "df_short.head()"
   ]
  },
  {
   "cell_type": "code",
   "execution_count": 44,
   "metadata": {},
   "outputs": [
    {
     "data": {
      "text/plain": [
       "UPC Wi-Free              522\n",
       "netis                     21\n",
       "ASUS                      18\n",
       "dlink                     12\n",
       "AndroidAP                 11\n",
       "UVT-Guest                 11\n",
       "TP-LINK                   10\n",
       "PMT-Presa                  9\n",
       "PMT-Guest                  9\n",
       "Telekom_FON                8\n",
       "WirelessNet                8\n",
       "eduroam                    8\n",
       "PMT                        8\n",
       "Alex                       7\n",
       "linksys                    6\n",
       "GlobalCorpnetWireless      6\n",
       "NH Timisoara               6\n",
       "Tenda                      6\n",
       "BusyMachines               5\n",
       "Home                       5\n",
       "Name: ESSID, dtype: int64"
      ]
     },
     "execution_count": 44,
     "metadata": {},
     "output_type": "execute_result"
    }
   ],
   "source": [
    "df_short['ESSID'].value_counts().head(20)"
   ]
  },
  {
   "cell_type": "code",
   "execution_count": 45,
   "metadata": {},
   "outputs": [
    {
     "data": {
      "text/plain": [
       "WPA2,AES-CCM             2005\n",
       "WPA2,AES-CCM,TKIP        1358\n",
       "WPA2,WPA,AES-CCM          799\n",
       "WPA2,WPA,AES-CCM,TKIP     557\n",
       "OPN,None                  203\n",
       "WPA,AES-CCM                72\n",
       "WEP                        27\n",
       "WPA,TKIP                   21\n",
       "WPA2,TKIP                  20\n",
       "WPA,AES-CCM,TKIP            8\n",
       "WPA2,WPA,TKIP               2\n",
       "WPA2,OPN,AES-CCM,TKIP       2\n",
       "WPA2,None                   1\n",
       "Name: Encryption, dtype: int64"
      ]
     },
     "execution_count": 45,
     "metadata": {},
     "output_type": "execute_result"
    }
   ],
   "source": [
    "df_short['Encryption'].value_counts()"
   ]
  },
  {
   "cell_type": "code",
   "execution_count": 46,
   "metadata": {},
   "outputs": [],
   "source": [
    "### Import dataset into elastic"
   ]
  },
  {
   "cell_type": "code",
   "execution_count": 47,
   "metadata": {},
   "outputs": [
    {
     "data": {
      "text/plain": [
       "{'_shards': {'total': 11, 'successful': 6, 'failed': 0}}"
      ]
     },
     "execution_count": 47,
     "metadata": {},
     "output_type": "execute_result"
    }
   ],
   "source": [
    "es = Elasticsearch([\"127.0.0.1:9200\"])\n",
    "\n",
    "es.indices.delete(index=\"wardrive\",ignore=404)  #if index exist delete it, or ignore error messages, 404=index not found\n",
    "docs = df_short.to_dict(orient='records')       #from dataset create a serialize object for import \n",
    "bulk(es, docs, index='wardrive',doc_type='wifi', raise_on_error=True) #bulk import\n",
    "es.indices.refresh() #get import status"
   ]
  },
  {
   "cell_type": "code",
   "execution_count": null,
   "metadata": {},
   "outputs": [],
   "source": []
  }
 ],
 "metadata": {
  "kernelspec": {
   "display_name": "Python 3",
   "language": "python",
   "name": "python3"
  },
  "language_info": {
   "codemirror_mode": {
    "name": "ipython",
    "version": 3
   },
   "file_extension": ".py",
   "mimetype": "text/x-python",
   "name": "python",
   "nbconvert_exporter": "python",
   "pygments_lexer": "ipython3",
   "version": "3.6.6"
  }
 },
 "nbformat": 4,
 "nbformat_minor": 2
}
